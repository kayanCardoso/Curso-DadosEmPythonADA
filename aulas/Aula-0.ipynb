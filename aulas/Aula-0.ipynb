{
 "cells": [
  {
   "cell_type": "markdown",
   "id": "280d8992",
   "metadata": {},
   "source": [
    "# Aula - 0 do curso de dados em python\n",
    "\n",
    "nesse primeiro contato estou apenas me familiarizando com a ferramenta.\n",
    "* primeiro codigo com o jupyter \n",
    "* variaveis e etc.\n",
    "__________\n",
    "## Atalhos\n",
    "* CTRL + enter executa a celula (RUN)\n",
    "* ESC celula em modo de comando \n",
    "* ESC depois M transforma em markdown\n",
    "* ESC depois Y transforma em codigo \n",
    "* ESC depois DD deleta a celula\n",
    "* ESC depois A cria uma celula acima\n",
    "* ESC depois B cria uma celila abaixo\n"
   ]
  },
  {
   "cell_type": "code",
   "execution_count": 5,
   "id": "01e3e2f8",
   "metadata": {},
   "outputs": [
    {
     "name": "stdout",
     "output_type": "stream",
     "text": [
      "oi kayan esse é seu primeiro codígo dentro do jupyter !!\n"
     ]
    }
   ],
   "source": [
    "nome = 'kayan'\n",
    "print(f'oi {nome} esse é seu primeiro codígo dentro do jupyter !!')"
   ]
  }
 ],
 "metadata": {
  "kernelspec": {
   "display_name": "Python 3 (ipykernel)",
   "language": "python",
   "name": "python3"
  },
  "language_info": {
   "codemirror_mode": {
    "name": "ipython",
    "version": 3
   },
   "file_extension": ".py",
   "mimetype": "text/x-python",
   "name": "python",
   "nbconvert_exporter": "python",
   "pygments_lexer": "ipython3",
   "version": "3.11.5"
  }
 },
 "nbformat": 4,
 "nbformat_minor": 5
}
