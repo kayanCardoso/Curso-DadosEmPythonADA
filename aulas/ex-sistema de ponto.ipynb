{
 "cells": [
  {
   "cell_type": "markdown",
   "metadata": {},
   "source": [
    "## Sistema de pontos de uma impresa\n",
    "Ultilizando os conhecimentos do adiquiridos no curso, o sistema será feito através da OOP para a divisão de hora, minutos e segundos.\n",
    "onde deve ter hora de entrada, almoço e saída."
   ]
  },
  {
   "cell_type": "code",
   "execution_count": 39,
   "metadata": {},
   "outputs": [],
   "source": [
    "class horario:\n",
    "\n",
    "    def __init__(self, hors=0, minu=0, seg=0):\n",
    "        self.h = hors\n",
    "        self.m = minu\n",
    "        self.s = seg\n",
    "\n",
    "    def __repr__(self):\n",
    "        return f'{self.h:02d}:{self.m:02d}:{self.s:02d}'\n",
    "    \n",
    "    # metodo para fazer o calculo de horas onde temos a entrada no trabalho (self) e tempo trabalhado(other)\n",
    "    def __add__(self, other):\n",
    "        se = self.s + other.s\n",
    "        mi = self.m + other.m\n",
    "        ho = self.h + other.h\n",
    "\n",
    "        if se >= 60:\n",
    "            mi += 1\n",
    "            se -= 60\n",
    "        if mi >= 60:\n",
    "            ho += 1 \n",
    "            mi -= 60\n",
    "        if ho >= 24:\n",
    "            ho -= 24\n",
    "\n",
    "        return horario(ho,mi,se)\n",
    "    \n",
    "    # Calculo para saber a jornada de trabalho.\n",
    "    def __sub__(self, other):\n",
    "        '''\n",
    "        x2 = sempre é a data de saída \n",
    "        x1 = a data de entrada\n",
    "        '''\n",
    "        # Biblioteca para matipulação de data e horarios \n",
    "        from datetime import timedelta\n",
    "        x1 = timedelta(seconds=self.s, minutes=self.m, hours=self.h)\n",
    "        x2 = timedelta(seconds=other.s, minutes=other.m, hours=other.h)\n",
    "        saida = x2 - x1\n",
    "        return saida \n",
    "         \n",
    "    \n",
    "\n"
   ]
  },
  {
   "cell_type": "markdown",
   "metadata": {},
   "source": [
    "Sistema"
   ]
  },
  {
   "cell_type": "code",
   "execution_count": 40,
   "metadata": {},
   "outputs": [
    {
     "name": "stdout",
     "output_type": "stream",
     "text": [
      "você entrou as 08:23:17 e saiu as 17:36:02\n",
      "teve uma jornada de 9:12:45 horas diarias \n"
     ]
    }
   ],
   "source": [
    "\n",
    "\n",
    "# pegando a hora de entrada \n",
    "x = [int(input('Informe a hora de ENTRADA: ')),\\\n",
    "     int(input('Informe o minuto: ')),\\\n",
    "     int(input('Informe os segundos'))]\n",
    "if x[0] > 23 or x[1] > 59 or x[2] > 59:\n",
    "    raise ValueError('Você informou um dado errado(só e aceito numeros no formato de hora, minutos e segundos)')\n",
    "hr_entrada = horario(x[0], x[1], x[2])\n",
    "# pegando a hora da saida \n",
    "x = [int(input('Informe a hora da SAÍDA: ')),int(input('Informe o minuto: ')),\\\n",
    "      int(input('Informe os segundos'))]\n",
    "if x[0] > 23 or x[1] > 59 or x[2] > 59:\n",
    "    raise ValueError('Você informou um dado errado(só e aceito numeros no formato de hora, minutos e segundos)')\n",
    "hr_saida = horario(x[0],x[1],x[2])\n",
    "\n",
    "jornada = hr_entrada - hr_saida\n",
    "print(f'você entrou as {hr_entrada} e saiu as {hr_saida}\\ne teve uma jornada de {jornada} horas diarias ')\n",
    "\n"
   ]
  },
  {
   "cell_type": "code",
   "execution_count": 4,
   "metadata": {},
   "outputs": [
    {
     "data": {
      "text/plain": [
       "07:12:13"
      ]
     },
     "execution_count": 4,
     "metadata": {},
     "output_type": "execute_result"
    }
   ],
   "source": [
    "h1 = horario(10,20,32)\n",
    "h2 = horario(20,51,41)\n",
    "h3 = h1 + h2\n",
    "\n",
    "h3\n"
   ]
  },
  {
   "cell_type": "code",
   "execution_count": 43,
   "metadata": {},
   "outputs": [
    {
     "name": "stdout",
     "output_type": "stream",
     "text": [
      "Seu horario de almoço foi de 1:07:02\n",
      "você entrou as 11:23:04 e voltou as 12:30:06\n"
     ]
    }
   ],
   "source": [
    "# entrada almoço\n",
    "x = [int(input('Informe a hora do inicio do ALMOÇO: ')),\\\n",
    "     int(input('Informe o minuto: ')),\\\n",
    "     int(input('Informe os segundos'))]\n",
    "if x[0] > 23 or x[1] > 59 or x[2] > 59:\n",
    "    raise ValueError('Você informou um dado errado(só e aceito numeros no formato de hora, minutos e segundos)')\n",
    "hr_ent_almoço = horario(x[0],x[1],x[2])\n",
    "# saída almoço\n",
    "x = [int(input('Informe a hora da saída do ALMOÇO: ')),\\\n",
    "     int(input('Informe o minuto: ')),\\\n",
    "     int(input('Informe os segundos'))]\n",
    "if x[0] > 23 or x[1] > 59 or x[2] > 59:\n",
    "    raise ValueError('Você informou um dado errado(só e aceito numeros no formato de hora, minutos e segundos)')\n",
    "hr_saida_almoço = horario(x[0],x[1],x[2])\n",
    "\n",
    "print(f'Seu horario de almoço foi de {hr_ent_almoço-hr_saida_almoço}\\n'\\\n",
    "      f'você entrou as {hr_ent_almoço} e voltou as {hr_saida_almoço}')\n"
   ]
  }
 ],
 "metadata": {
  "kernelspec": {
   "display_name": "base",
   "language": "python",
   "name": "python3"
  },
  "language_info": {
   "codemirror_mode": {
    "name": "ipython",
    "version": 3
   },
   "file_extension": ".py",
   "mimetype": "text/x-python",
   "name": "python",
   "nbconvert_exporter": "python",
   "pygments_lexer": "ipython3",
   "version": "3.11.5"
  }
 },
 "nbformat": 4,
 "nbformat_minor": 2
}
